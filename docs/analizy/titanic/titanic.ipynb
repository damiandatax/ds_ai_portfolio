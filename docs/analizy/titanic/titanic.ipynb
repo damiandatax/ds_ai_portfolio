{
 "cells": [
  {
   "cell_type": "markdown",
   "metadata": {
    "editable": true,
    "slideshow": {
     "slide_type": "slide"
    },
    "tags": []
   },
   "source": [
    "# **Eksploracyjna Analiza Danych: Titanic Dataset**"
   ]
  },
  {
   "cell_type": "markdown",
   "metadata": {
    "editable": true,
    "slideshow": {
     "slide_type": "fragment"
    },
    "tags": []
   },
   "source": [
    "<div style=\"text-align:center;\">\n",
    "  <img src=\"https://upload.wikimedia.org/wikipedia/commons/7/79/Titanic_launched_at_Belfast.jpg\" style=\"width:100%; height:auto;\">\n",
    "</div>"
   ]
  },
  {
   "cell_type": "markdown",
   "metadata": {
    "editable": true,
    "slideshow": {
     "slide_type": "slide"
    },
    "tags": []
   },
   "source": [
    "## **Wprowadzenie**\n",
    "RMS Titanic wyruszył w swój dziewiczy rejs z Southampton 10 kwietnia 1912 r. Cztery dni później, w nocy z 14 na 15 kwietnia, uderzył w górę lodową i zatonął po ok. 2 godzinach i 40 minutach — o 02:20. Na pokładzie było ok. 2,200 osób; zginęło ponad 1,500, co uczyniło tę katastrofę jedną z najtragiczniejszych w historii żeglugi. Na statku znajdowało się zaledwie 20 szalup ratunkowych (pojemność 1,178 osób), co okazało się dramatycznie niewystarczające i doprowadziło do zmian w przepisach morskich.\n",
    "\n",
    "## **Cel analizy**\n",
    "\n",
    "Celem tej analizy jest:\n",
    "- sprawdzenie, jakie czynniki mogły wpływać na przeżycie pasażerów,\n",
    "- analiza zależności między **klasą podróży**, **płcią** i **wiekiem** a **szansą przeżycia**,\n",
    "- przygotowanie prostych wizualizacji i statystyk opisowych."
   ]
  },
  {
   "cell_type": "markdown",
   "metadata": {
    "editable": true,
    "slideshow": {
     "slide_type": "slide"
    },
    "tags": []
   },
   "source": [
    "**Trochę wiecej o Titanicu...**\n",
    "\n",
    "<div style=\"text-align:center;\">\n",
    "  <img src=\"https://upload.wikimedia.org/wikipedia/commons/f/fd/RMS_Titanic_3.jpg\" style=\"width:100%; height:auto;\">\n",
    "</div>"
   ]
  },
  {
   "cell_type": "markdown",
   "metadata": {
    "editable": true,
    "slideshow": {
     "slide_type": "slide"
    },
    "tags": []
   },
   "source": [
    "RMS *Titanic* był dumą linii White Star Line i jednym z największych statków pasażerskich swoich czasów. \n",
    "Miał ponad 269 metrów długości, 28 metrów szerokości i ważył ponad 46 000 ton. \n",
    "Na pokładzie znajdowało się ponad 800 członków załogi oraz ponad 2 200 pasażerów.\n",
    "\n",
    "Statek był wyposażony w luksusowe salony, basen, siłownię, restauracje oraz nowoczesne rozwiązania techniczne. \n",
    "Dla wielu pasażerów trzeciej klasy Titanic symbolizował nadzieję na nowe życie w Ameryce. \n",
    "Zestawienie bogactwa i przepychu pierwszej klasy ze skromnymi warunkami trzeciej klasy \n",
    "stało się jednym z najbardziej charakterystycznych elementów historii Titanica."
   ]
  },
  {
   "cell_type": "markdown",
   "metadata": {
    "editable": true,
    "slideshow": {
     "slide_type": "slide"
    },
    "tags": []
   },
   "source": [
    "## **1. Dane wejściowe**\n",
    "\n",
    "Dane o pasażerach Titanica\n",
    "\n",
    "Zbiór danych zawiera informacje o pasażerach RMS Titanic, który zatonął 15 kwietnia 1912 roku po zderzeniu z górą\n",
    "lodową. Dane obejmują takie atrybuty jak klasa podróży, wiek, płeć, liczba rodzeństwa/małżonków na pokładzie,\n",
    "liczba rodziców/dzieci na pokładzie, cena biletu oraz miejsce zaokrętowania.\n",
    "\n",
    "Zbiór zawiera także informację o tym, czy pasażer przeżył katastrofę.\n",
    "\n",
    "Titanic przewoził ponad 2,200 osób, z czego ponad 1,500 zginęło, co czyni tę katastrofę jedną z najbardziej\n",
    "tragicznych w historii morskiej.\n",
    "\n",
    "Kolumny:\n",
    "\n",
    "* **pclass** - Klasa biletu\n",
    "* **survived** - Czy pasażer przeżył katastrofę\n",
    "* **name** - Imię i nazwisko pasażera\n",
    "* **sex** - Płeć pasażera\n",
    "* **age** - Wiek pasażera\n",
    "* **sibsp** - Liczba rodzeństwa/małżonków na pokładzie\n",
    "* **parch** - Liczba rodziców/dzieci na pokładzie\n",
    "* **ticket** - Numer biletu\n",
    "* **fare** - Cena biletu\n",
    "* **cabin** - Numer kabiny\n",
    "* **embarked** - Port, w którym pasażer wszedł na pokład (C = Cherbourg, Q = Queenstown, S = Southampton)\n",
    "* **boat** - Numer łodzi ratunkowej\n",
    "* **body** - Numer ciała (jeśli pasażer nie przeżył i ciało zostało odnalezione)\n",
    "* **home.dest** - Miejsce docelowe"
   ]
  },
  {
   "cell_type": "markdown",
   "metadata": {
    "editable": true,
    "slideshow": {
     "slide_type": "slide"
    },
    "tags": []
   },
   "source": [
    "##  **2. Analiza wstepna**\n",
    "### **Ogólny przegląd danych**"
   ]
  },
  {
   "cell_type": "code",
   "execution_count": 1,
   "metadata": {
    "editable": true,
    "slideshow": {
     "slide_type": ""
    },
    "tags": [
     "hide"
    ]
   },
   "outputs": [],
   "source": [
    "import pandas as pd"
   ]
  },
  {
   "cell_type": "code",
   "execution_count": 2,
   "metadata": {
    "editable": true,
    "slideshow": {
     "slide_type": ""
    },
    "tags": [
     "hide"
    ]
   },
   "outputs": [],
   "source": [
    "pd.set_option('display.max_rows', None)"
   ]
  },
  {
   "cell_type": "code",
   "execution_count": 3,
   "metadata": {
    "editable": true,
    "slideshow": {
     "slide_type": ""
    },
    "tags": [
     "hide"
    ]
   },
   "outputs": [],
   "source": [
    "df = pd.read_csv(\"26__titanic.csv\")"
   ]
  },
  {
   "cell_type": "code",
   "execution_count": 4,
   "metadata": {
    "editable": true,
    "slideshow": {
     "slide_type": ""
    },
    "tags": [
     "hide"
    ]
   },
   "outputs": [],
   "source": [
    "import warnings\n",
    "\n",
    "# Wycisz wszystkie FutureWarning (np. z pandas, seaborn)\n",
    "warnings.simplefilter(action=\"ignore\", category=FutureWarning)\n",
    "\n",
    "# Wycisz wszystkie UserWarning z seaborn\n",
    "warnings.filterwarnings(\"ignore\", category=UserWarning, module=\"seaborn\")"
   ]
  },
  {
   "cell_type": "markdown",
   "metadata": {
    "editable": true,
    "slideshow": {
     "slide_type": "slide"
    },
    "tags": []
   },
   "source": [
    "#### **Podgląd pierwszych 5 wierszy**"
   ]
  },
  {
   "cell_type": "code",
   "execution_count": 5,
   "metadata": {
    "editable": true,
    "slideshow": {
     "slide_type": "fragment"
    },
    "tags": [
     "hide-input"
    ]
   },
   "outputs": [
    {
     "name": "stdout",
     "output_type": "stream",
     "text": [
      "Przykładowe dane:\n",
      "\n"
     ]
    },
    {
     "data": {
      "text/html": [
       "<div>\n",
       "<style scoped>\n",
       "    .dataframe tbody tr th:only-of-type {\n",
       "        vertical-align: middle;\n",
       "    }\n",
       "\n",
       "    .dataframe tbody tr th {\n",
       "        vertical-align: top;\n",
       "    }\n",
       "\n",
       "    .dataframe thead th {\n",
       "        text-align: right;\n",
       "    }\n",
       "</style>\n",
       "<table border=\"1\" class=\"dataframe\">\n",
       "  <thead>\n",
       "    <tr style=\"text-align: right;\">\n",
       "      <th></th>\n",
       "      <th>pclass</th>\n",
       "      <th>survived</th>\n",
       "      <th>name</th>\n",
       "      <th>sex</th>\n",
       "      <th>age</th>\n",
       "      <th>sibsp</th>\n",
       "      <th>parch</th>\n",
       "      <th>ticket</th>\n",
       "      <th>fare</th>\n",
       "      <th>cabin</th>\n",
       "      <th>embarked</th>\n",
       "      <th>boat</th>\n",
       "      <th>body</th>\n",
       "      <th>home.dest</th>\n",
       "    </tr>\n",
       "  </thead>\n",
       "  <tbody>\n",
       "    <tr>\n",
       "      <th>0</th>\n",
       "      <td>1.0</td>\n",
       "      <td>1.0</td>\n",
       "      <td>Allen, Miss. Elisabeth Walton</td>\n",
       "      <td>female</td>\n",
       "      <td>29.0000</td>\n",
       "      <td>0.0</td>\n",
       "      <td>0.0</td>\n",
       "      <td>24160</td>\n",
       "      <td>211.3375</td>\n",
       "      <td>B5</td>\n",
       "      <td>S</td>\n",
       "      <td>2</td>\n",
       "      <td>NaN</td>\n",
       "      <td>St Louis, MO</td>\n",
       "    </tr>\n",
       "    <tr>\n",
       "      <th>1</th>\n",
       "      <td>1.0</td>\n",
       "      <td>1.0</td>\n",
       "      <td>Allison, Master. Hudson Trevor</td>\n",
       "      <td>male</td>\n",
       "      <td>0.9167</td>\n",
       "      <td>1.0</td>\n",
       "      <td>2.0</td>\n",
       "      <td>113781</td>\n",
       "      <td>151.5500</td>\n",
       "      <td>C22 C26</td>\n",
       "      <td>S</td>\n",
       "      <td>11</td>\n",
       "      <td>NaN</td>\n",
       "      <td>Montreal, PQ / Chesterville, ON</td>\n",
       "    </tr>\n",
       "    <tr>\n",
       "      <th>2</th>\n",
       "      <td>1.0</td>\n",
       "      <td>0.0</td>\n",
       "      <td>Allison, Miss. Helen Loraine</td>\n",
       "      <td>female</td>\n",
       "      <td>2.0000</td>\n",
       "      <td>1.0</td>\n",
       "      <td>2.0</td>\n",
       "      <td>113781</td>\n",
       "      <td>151.5500</td>\n",
       "      <td>C22 C26</td>\n",
       "      <td>S</td>\n",
       "      <td>NaN</td>\n",
       "      <td>NaN</td>\n",
       "      <td>Montreal, PQ / Chesterville, ON</td>\n",
       "    </tr>\n",
       "    <tr>\n",
       "      <th>3</th>\n",
       "      <td>1.0</td>\n",
       "      <td>0.0</td>\n",
       "      <td>Allison, Mr. Hudson Joshua Creighton</td>\n",
       "      <td>male</td>\n",
       "      <td>30.0000</td>\n",
       "      <td>1.0</td>\n",
       "      <td>2.0</td>\n",
       "      <td>113781</td>\n",
       "      <td>151.5500</td>\n",
       "      <td>C22 C26</td>\n",
       "      <td>S</td>\n",
       "      <td>NaN</td>\n",
       "      <td>135.0</td>\n",
       "      <td>Montreal, PQ / Chesterville, ON</td>\n",
       "    </tr>\n",
       "    <tr>\n",
       "      <th>4</th>\n",
       "      <td>1.0</td>\n",
       "      <td>0.0</td>\n",
       "      <td>Allison, Mrs. Hudson J C (Bessie Waldo Daniels)</td>\n",
       "      <td>female</td>\n",
       "      <td>25.0000</td>\n",
       "      <td>1.0</td>\n",
       "      <td>2.0</td>\n",
       "      <td>113781</td>\n",
       "      <td>151.5500</td>\n",
       "      <td>C22 C26</td>\n",
       "      <td>S</td>\n",
       "      <td>NaN</td>\n",
       "      <td>NaN</td>\n",
       "      <td>Montreal, PQ / Chesterville, ON</td>\n",
       "    </tr>\n",
       "  </tbody>\n",
       "</table>\n",
       "</div>"
      ],
      "text/plain": [
       "   pclass  survived                                             name     sex  \\\n",
       "0     1.0       1.0                    Allen, Miss. Elisabeth Walton  female   \n",
       "1     1.0       1.0                   Allison, Master. Hudson Trevor    male   \n",
       "2     1.0       0.0                     Allison, Miss. Helen Loraine  female   \n",
       "3     1.0       0.0             Allison, Mr. Hudson Joshua Creighton    male   \n",
       "4     1.0       0.0  Allison, Mrs. Hudson J C (Bessie Waldo Daniels)  female   \n",
       "\n",
       "       age  sibsp  parch  ticket      fare    cabin embarked boat   body  \\\n",
       "0  29.0000    0.0    0.0   24160  211.3375       B5        S    2    NaN   \n",
       "1   0.9167    1.0    2.0  113781  151.5500  C22 C26        S   11    NaN   \n",
       "2   2.0000    1.0    2.0  113781  151.5500  C22 C26        S  NaN    NaN   \n",
       "3  30.0000    1.0    2.0  113781  151.5500  C22 C26        S  NaN  135.0   \n",
       "4  25.0000    1.0    2.0  113781  151.5500  C22 C26        S  NaN    NaN   \n",
       "\n",
       "                         home.dest  \n",
       "0                     St Louis, MO  \n",
       "1  Montreal, PQ / Chesterville, ON  \n",
       "2  Montreal, PQ / Chesterville, ON  \n",
       "3  Montreal, PQ / Chesterville, ON  \n",
       "4  Montreal, PQ / Chesterville, ON  "
      ]
     },
     "metadata": {},
     "output_type": "display_data"
    }
   ],
   "source": [
    "print(\"Przykładowe dane:\\n\")\n",
    "\n",
    "display(df.head())"
   ]
  },
  {
   "cell_type": "markdown",
   "metadata": {
    "editable": true,
    "slideshow": {
     "slide_type": "slide"
    },
    "tags": []
   },
   "source": [
    "**Przegląd pierwszych rekordów pozwala zauważyć kilka istotnych elementów:**\n",
    "\n",
    "* Różnorodność pasażerów – widać zarówno dorosłych, jak i bardzo małe dzieci (np. wiek 0.9167, czyli ok. 11 miesięcy).\n",
    "\n",
    "* Kolumna survived od razu pokazuje, kto przeżył (1), a kto zginął (0), co będzie kluczową zmienną w dalszej analizie.\n",
    "\n",
    "* Cena biletu (fare) jest stosunkowo wysoka w tej próbce (ponad 150 jednostek), co wskazuje na pasażerów pierwszej klasy (pclass = 1).\n",
    "\n",
    "* Braki danych – widać puste wartości (NaN) m.in. w kolumnach cabin, boat czy body, co będzie wymagało dalszego omówienia przy przygotowaniu danych do analizy.\n",
    "\n",
    "Już na tym etapie można zauważyć, że zbiór danych zawiera istotne różnice pomiędzy pasażerami oraz potencjalne problemy (braki danych), które należy uwzględnić w dalszych etapach pracy."
   ]
  },
  {
   "cell_type": "markdown",
   "metadata": {
    "editable": true,
    "slideshow": {
     "slide_type": "slide"
    },
    "tags": []
   },
   "source": [
    "#### **Informacje o strukturze**"
   ]
  },
  {
   "cell_type": "code",
   "execution_count": 6,
   "metadata": {
    "editable": true,
    "slideshow": {
     "slide_type": "fragment"
    },
    "tags": [
     "hide-input"
    ]
   },
   "outputs": [
    {
     "name": "stdout",
     "output_type": "stream",
     "text": [
      "Rozmiar danych: (1310, 14)\n",
      "<class 'pandas.core.frame.DataFrame'>\n",
      "RangeIndex: 1310 entries, 0 to 1309\n",
      "Data columns (total 14 columns):\n",
      " #   Column     Non-Null Count  Dtype  \n",
      "---  ------     --------------  -----  \n",
      " 0   pclass     1309 non-null   float64\n",
      " 1   survived   1309 non-null   float64\n",
      " 2   name       1309 non-null   object \n",
      " 3   sex        1309 non-null   object \n",
      " 4   age        1046 non-null   float64\n",
      " 5   sibsp      1309 non-null   float64\n",
      " 6   parch      1309 non-null   float64\n",
      " 7   ticket     1309 non-null   object \n",
      " 8   fare       1308 non-null   float64\n",
      " 9   cabin      295 non-null    object \n",
      " 10  embarked   1307 non-null   object \n",
      " 11  boat       486 non-null    object \n",
      " 12  body       121 non-null    float64\n",
      " 13  home.dest  745 non-null    object \n",
      "dtypes: float64(7), object(7)\n",
      "memory usage: 143.4+ KB\n"
     ]
    }
   ],
   "source": [
    " print(\"Rozmiar danych:\", df.shape)\n",
    "df.info()"
   ]
  },
  {
   "cell_type": "markdown",
   "metadata": {
    "editable": true,
    "slideshow": {
     "slide_type": "slide"
    },
    "tags": []
   },
   "source": [
    "Zbiór danych zawiera 1310 rekordów oraz 14 kolumn opisujących pasażerów Titanica.\n",
    "Wśród kolumn znajdują się zarówno zmienne liczbowe (float64), jak i tekstowe (object).\n",
    "\n",
    "* Kluczowe kolumny: pclass, survived, sex, age, fare.\n",
    "\n",
    "* Dane dotyczące wieku (age) są dostępne tylko dla 1046 pasażerów – oznacza to ponad 250 braków danych.\n",
    "\n",
    "* Szczególnie dużo braków występuje w kolumnach:\n",
    "\n",
    "     * cabin (dane dostępne tylko dla 295 osób),\n",
    "\n",
    "     * body (n=121),\n",
    "\n",
    "     * boat (n=486),\n",
    "\n",
    "     * home.dest (n=745).\n",
    "\n",
    "* Pozostałe kolumny (np. pclass, sex, fare, ticket, embarked) są niemal kompletne.\n",
    "\n",
    "Widać więc, że część zmiennych (np. cabin, body, boat) ma bardzo ograniczoną przydatność analityczną i będzie trzeba zdecydować, czy je uwzględniać."
   ]
  },
  {
   "cell_type": "markdown",
   "metadata": {
    "editable": true,
    "slideshow": {
     "slide_type": "slide"
    },
    "tags": []
   },
   "source": [
    "#### **Podstawowe statystyki opisowe dla zmiennych numerycznych**"
   ]
  },
  {
   "cell_type": "code",
   "execution_count": 7,
   "metadata": {
    "editable": true,
    "slideshow": {
     "slide_type": "fragment"
    },
    "tags": [
     "hide-input"
    ]
   },
   "outputs": [
    {
     "data": {
      "text/html": [
       "<div>\n",
       "<style scoped>\n",
       "    .dataframe tbody tr th:only-of-type {\n",
       "        vertical-align: middle;\n",
       "    }\n",
       "\n",
       "    .dataframe tbody tr th {\n",
       "        vertical-align: top;\n",
       "    }\n",
       "\n",
       "    .dataframe thead th {\n",
       "        text-align: right;\n",
       "    }\n",
       "</style>\n",
       "<table border=\"1\" class=\"dataframe\">\n",
       "  <thead>\n",
       "    <tr style=\"text-align: right;\">\n",
       "      <th></th>\n",
       "      <th>pclass</th>\n",
       "      <th>survived</th>\n",
       "      <th>age</th>\n",
       "      <th>sibsp</th>\n",
       "      <th>parch</th>\n",
       "      <th>fare</th>\n",
       "      <th>body</th>\n",
       "    </tr>\n",
       "  </thead>\n",
       "  <tbody>\n",
       "    <tr>\n",
       "      <th>count</th>\n",
       "      <td>1309.00</td>\n",
       "      <td>1309.00</td>\n",
       "      <td>1046.00</td>\n",
       "      <td>1309.00</td>\n",
       "      <td>1309.00</td>\n",
       "      <td>1308.00</td>\n",
       "      <td>121.00</td>\n",
       "    </tr>\n",
       "    <tr>\n",
       "      <th>mean</th>\n",
       "      <td>2.29</td>\n",
       "      <td>0.38</td>\n",
       "      <td>29.88</td>\n",
       "      <td>0.50</td>\n",
       "      <td>0.39</td>\n",
       "      <td>33.30</td>\n",
       "      <td>160.81</td>\n",
       "    </tr>\n",
       "    <tr>\n",
       "      <th>std</th>\n",
       "      <td>0.84</td>\n",
       "      <td>0.49</td>\n",
       "      <td>14.41</td>\n",
       "      <td>1.04</td>\n",
       "      <td>0.87</td>\n",
       "      <td>51.76</td>\n",
       "      <td>97.70</td>\n",
       "    </tr>\n",
       "    <tr>\n",
       "      <th>min</th>\n",
       "      <td>1.00</td>\n",
       "      <td>0.00</td>\n",
       "      <td>0.17</td>\n",
       "      <td>0.00</td>\n",
       "      <td>0.00</td>\n",
       "      <td>0.00</td>\n",
       "      <td>1.00</td>\n",
       "    </tr>\n",
       "    <tr>\n",
       "      <th>25%</th>\n",
       "      <td>2.00</td>\n",
       "      <td>0.00</td>\n",
       "      <td>21.00</td>\n",
       "      <td>0.00</td>\n",
       "      <td>0.00</td>\n",
       "      <td>7.90</td>\n",
       "      <td>72.00</td>\n",
       "    </tr>\n",
       "    <tr>\n",
       "      <th>50%</th>\n",
       "      <td>3.00</td>\n",
       "      <td>0.00</td>\n",
       "      <td>28.00</td>\n",
       "      <td>0.00</td>\n",
       "      <td>0.00</td>\n",
       "      <td>14.45</td>\n",
       "      <td>155.00</td>\n",
       "    </tr>\n",
       "    <tr>\n",
       "      <th>75%</th>\n",
       "      <td>3.00</td>\n",
       "      <td>1.00</td>\n",
       "      <td>39.00</td>\n",
       "      <td>1.00</td>\n",
       "      <td>0.00</td>\n",
       "      <td>31.28</td>\n",
       "      <td>256.00</td>\n",
       "    </tr>\n",
       "    <tr>\n",
       "      <th>max</th>\n",
       "      <td>3.00</td>\n",
       "      <td>1.00</td>\n",
       "      <td>80.00</td>\n",
       "      <td>8.00</td>\n",
       "      <td>9.00</td>\n",
       "      <td>512.33</td>\n",
       "      <td>328.00</td>\n",
       "    </tr>\n",
       "  </tbody>\n",
       "</table>\n",
       "</div>"
      ],
      "text/plain": [
       "        pclass  survived      age    sibsp    parch     fare    body\n",
       "count  1309.00   1309.00  1046.00  1309.00  1309.00  1308.00  121.00\n",
       "mean      2.29      0.38    29.88     0.50     0.39    33.30  160.81\n",
       "std       0.84      0.49    14.41     1.04     0.87    51.76   97.70\n",
       "min       1.00      0.00     0.17     0.00     0.00     0.00    1.00\n",
       "25%       2.00      0.00    21.00     0.00     0.00     7.90   72.00\n",
       "50%       3.00      0.00    28.00     0.00     0.00    14.45  155.00\n",
       "75%       3.00      1.00    39.00     1.00     0.00    31.28  256.00\n",
       "max       3.00      1.00    80.00     8.00     9.00   512.33  328.00"
      ]
     },
     "execution_count": 7,
     "metadata": {},
     "output_type": "execute_result"
    }
   ],
   "source": [
    "df.describe().round(2)"
   ]
  },
  {
   "cell_type": "markdown",
   "metadata": {
    "editable": true,
    "slideshow": {
     "slide_type": "slide"
    },
    "tags": []
   },
   "source": [
    " **Statystyki opisowe – wiek, cena biletu, klasy pasażerów**\n",
    "\n",
    "- **Wiek pasażerów (`age`)**\n",
    "  - średnia: ok. **29,9 lat**  \n",
    "  - mediana: **28 lat**  \n",
    "  - najmłodszy pasażer miał niespełna rok, najstarszy **80 lat**  \n",
    "  - większość pasażerów (50%) mieściła się w przedziale **21–39 lat**\n",
    "- **Cena biletu (`fare`)**  \n",
    "  - średnia: **33,3**  \n",
    "  - mediana: **14,45**  \n",
    "  - minimalna cena: **0** (np. załoga lub osoby podróżujące bez biletu)  \n",
    "  - maksymalna cena: **512**  \n",
    "  - rozkład jest **asymetryczny** – kilka bardzo drogich biletów podnosi średnią\n",
    "- **Rodzina na pokładzie (`sibsp`, `parch`)**  \n",
    "  - większość pasażerów podróżowała samotnie (wartości mediany = 0) \n",
    "- **Klasa pasażera (`pclass`)**  \n",
    "  - średnia: **2,29**  \n",
    "  - mediana: **3**  \n",
    "  - dominowała **3. klasa**"
   ]
  },
  {
   "cell_type": "markdown",
   "metadata": {
    "editable": true,
    "slideshow": {
     "slide_type": "slide"
    },
    "tags": []
   },
   "source": [
    "#### **Analiza braków danych**"
   ]
  },
  {
   "cell_type": "code",
   "execution_count": 8,
   "metadata": {
    "editable": true,
    "slideshow": {
     "slide_type": ""
    },
    "tags": [
     "hide-input"
    ]
   },
   "outputs": [
    {
     "data": {
      "text/html": [
       "<div>\n",
       "<style scoped>\n",
       "    .dataframe tbody tr th:only-of-type {\n",
       "        vertical-align: middle;\n",
       "    }\n",
       "\n",
       "    .dataframe tbody tr th {\n",
       "        vertical-align: top;\n",
       "    }\n",
       "\n",
       "    .dataframe thead th {\n",
       "        text-align: right;\n",
       "    }\n",
       "</style>\n",
       "<table border=\"1\" class=\"dataframe\">\n",
       "  <thead>\n",
       "    <tr style=\"text-align: right;\">\n",
       "      <th></th>\n",
       "      <th>Braki (liczba)</th>\n",
       "      <th>Braki (%)</th>\n",
       "    </tr>\n",
       "  </thead>\n",
       "  <tbody>\n",
       "    <tr>\n",
       "      <th>body</th>\n",
       "      <td>1189</td>\n",
       "      <td>90.76</td>\n",
       "    </tr>\n",
       "    <tr>\n",
       "      <th>cabin</th>\n",
       "      <td>1015</td>\n",
       "      <td>77.48</td>\n",
       "    </tr>\n",
       "    <tr>\n",
       "      <th>boat</th>\n",
       "      <td>824</td>\n",
       "      <td>62.90</td>\n",
       "    </tr>\n",
       "    <tr>\n",
       "      <th>home.dest</th>\n",
       "      <td>565</td>\n",
       "      <td>43.13</td>\n",
       "    </tr>\n",
       "    <tr>\n",
       "      <th>age</th>\n",
       "      <td>264</td>\n",
       "      <td>20.15</td>\n",
       "    </tr>\n",
       "    <tr>\n",
       "      <th>embarked</th>\n",
       "      <td>3</td>\n",
       "      <td>0.23</td>\n",
       "    </tr>\n",
       "    <tr>\n",
       "      <th>fare</th>\n",
       "      <td>2</td>\n",
       "      <td>0.15</td>\n",
       "    </tr>\n",
       "    <tr>\n",
       "      <th>pclass</th>\n",
       "      <td>1</td>\n",
       "      <td>0.08</td>\n",
       "    </tr>\n",
       "    <tr>\n",
       "      <th>survived</th>\n",
       "      <td>1</td>\n",
       "      <td>0.08</td>\n",
       "    </tr>\n",
       "    <tr>\n",
       "      <th>name</th>\n",
       "      <td>1</td>\n",
       "      <td>0.08</td>\n",
       "    </tr>\n",
       "    <tr>\n",
       "      <th>sex</th>\n",
       "      <td>1</td>\n",
       "      <td>0.08</td>\n",
       "    </tr>\n",
       "    <tr>\n",
       "      <th>sibsp</th>\n",
       "      <td>1</td>\n",
       "      <td>0.08</td>\n",
       "    </tr>\n",
       "    <tr>\n",
       "      <th>parch</th>\n",
       "      <td>1</td>\n",
       "      <td>0.08</td>\n",
       "    </tr>\n",
       "    <tr>\n",
       "      <th>ticket</th>\n",
       "      <td>1</td>\n",
       "      <td>0.08</td>\n",
       "    </tr>\n",
       "  </tbody>\n",
       "</table>\n",
       "</div>"
      ],
      "text/plain": [
       "           Braki (liczba)  Braki (%)\n",
       "body                 1189      90.76\n",
       "cabin                1015      77.48\n",
       "boat                  824      62.90\n",
       "home.dest             565      43.13\n",
       "age                   264      20.15\n",
       "embarked                3       0.23\n",
       "fare                    2       0.15\n",
       "pclass                  1       0.08\n",
       "survived                1       0.08\n",
       "name                    1       0.08\n",
       "sex                     1       0.08\n",
       "sibsp                   1       0.08\n",
       "parch                   1       0.08\n",
       "ticket                  1       0.08"
      ]
     },
     "execution_count": 8,
     "metadata": {},
     "output_type": "execute_result"
    }
   ],
   "source": [
    "# Liczba braków w każdej kolumnie\n",
    "missing_values = df.isna().sum()\n",
    "\n",
    "# Procent braków w stosunku do całego zbioru\n",
    "missing_percent = round((missing_values / len(df)) * 100, 2)\n",
    "\n",
    "# Połączenie w jedną tabelkę\n",
    "missing_table = pd.DataFrame({\n",
    "    \"Braki (liczba)\": missing_values,\n",
    "    \"Braki (%)\": missing_percent\n",
    "})\n",
    "\n",
    "# Sortowanie od największej liczby braków\n",
    "missing_table.sort_values(by=\"Braki (liczba)\", ascending=False)\n"
   ]
  },
  {
   "cell_type": "markdown",
   "metadata": {
    "editable": true,
    "slideshow": {
     "slide_type": "slide"
    },
    "tags": []
   },
   "source": [
    "**Analiza braków danych pokazała, że:**\n",
    "\n",
    "* body – aż 90.8% braków, praktycznie bezużyteczna kolumna,\n",
    "\n",
    "* cabin – ok. 77.5% braków, bardzo niekompletna,\n",
    "\n",
    "* boat – ponad 62% braków,\n",
    "\n",
    "* home.dest – brak danych w 43% rekordów,\n",
    "\n",
    "* age – ok. 20% braków, co będzie istotne przy analizie wieku pasażerów,\n",
    "\n",
    "Pozostałe kolumny mają praktycznie kompletne dane (mniej niż 1% braków)"
   ]
  },
  {
   "cell_type": "markdown",
   "metadata": {
    "editable": true,
    "slideshow": {
     "slide_type": "slide"
    },
    "tags": []
   },
   "source": [
    "#### **Liczba unikatowych wartości w każdej kolumnie**"
   ]
  },
  {
   "cell_type": "code",
   "execution_count": 9,
   "metadata": {
    "editable": true,
    "slideshow": {
     "slide_type": "fragment"
    },
    "tags": [
     "hide-input"
    ]
   },
   "outputs": [
    {
     "data": {
      "text/plain": [
       "name         1307\n",
       "ticket        929\n",
       "home.dest     369\n",
       "fare          281\n",
       "cabin         186\n",
       "body          121\n",
       "age            98\n",
       "boat           27\n",
       "parch           8\n",
       "sibsp           7\n",
       "pclass          3\n",
       "embarked        3\n",
       "survived        2\n",
       "sex             2\n",
       "dtype: int64"
      ]
     },
     "execution_count": 9,
     "metadata": {},
     "output_type": "execute_result"
    }
   ],
   "source": [
    "df.nunique().sort_values(ascending=False)"
   ]
  },
  {
   "cell_type": "markdown",
   "metadata": {
    "editable": true,
    "slideshow": {
     "slide_type": "slide"
    },
    "tags": []
   },
   "source": [
    "**Analiza liczby unikatowych wartości w kolumnach pokazuje, że:**\n",
    "\n",
    "- **name** (1307) i **ticket** (929) mają prawie same unikatowe wartości, dlatego nie nadają się do bezpośredniej analizy statystycznej.  \n",
    "- **home.dest** (369) i **fare** (281) również mają dużą liczbę unikatowych wartości, ale w przypadku `fare` rozkład cen można jeszcze grupować i analizować.  \n",
    "- **cabin** (186) oraz **body** (121) zawierają sporo różnych wpisów, ale jednocześnie dużo braków, więc ich użyteczność jest ograniczona.  \n",
    "- **age** ma 98 różnych wartości, co odpowiada szerokiemu zakresowi wieku pasażerów.  \n",
    "- Zmienne **boat** (27), **parch** (8), **sibsp** (7), **pclass** (3), **embarked** (3), **sex** (2) i **survived** (2) są typowymi zmiennymi kategorycznymi, które nadają się do dalszej analizy porównawczej.\n",
    "\n",
    "Podsumowując, główne zmienne kategoryczne to: `sex`, `pclass`, `embarked` oraz `survived`.  \n",
    "Zmienne numeryczne o dużej liczbie unikatowych wartości to: `age` i `fare`.  \n",
    "Kolumny `name`, `ticket`, `cabin` czy `body` mają ograniczoną wartość analityczną i raczej pełnią funkcję pomocniczą."
   ]
  },
  {
   "cell_type": "markdown",
   "metadata": {
    "editable": true,
    "slideshow": {
     "slide_type": "slide"
    },
    "tags": []
   },
   "source": [
    "#### **Rozkład kluczowych zmiennych kategorycznych**"
   ]
  },
  {
   "cell_type": "code",
   "execution_count": 10,
   "metadata": {
    "editable": true,
    "slideshow": {
     "slide_type": "fragment"
    },
    "tags": [
     "hide-input"
    ]
   },
   "outputs": [
    {
     "name": "stdout",
     "output_type": "stream",
     "text": [
      "Rozkład płci:\n",
      "sex\n",
      "male      843\n",
      "female    466\n",
      "Name: count, dtype: int64\n",
      "\n",
      "Rozkład klas:\n",
      "pclass\n",
      "3.0    709\n",
      "1.0    323\n",
      "2.0    277\n",
      "Name: count, dtype: int64\n",
      "\n",
      "Rozkład portów wejścia na pokład:\n",
      "embarked\n",
      "S    914\n",
      "C    270\n",
      "Q    123\n",
      "Name: count, dtype: int64\n"
     ]
    }
   ],
   "source": [
    "print(\"Rozkład płci:\")\n",
    "print(df['sex'].value_counts())\n",
    "\n",
    "print(\"\\nRozkład klas:\")\n",
    "print(df['pclass'].value_counts())\n",
    "\n",
    "print(\"\\nRozkład portów wejścia na pokład:\")\n",
    "print(df['embarked'].value_counts())\n"
   ]
  },
  {
   "cell_type": "markdown",
   "metadata": {
    "editable": true,
    "slideshow": {
     "slide_type": "slide"
    },
    "tags": []
   },
   "source": [
    "**Rozkład zmiennych kategorycznych:**\n",
    "\n",
    "- **Płeć (`sex`)**  \n",
    "  W zbiorze znajduje się **843 mężczyzn** i **466 kobiet**.  \n",
    "  Oznacza to, że mężczyźni stanowili ok. **65%** pasażerów, a kobiety ok. **35%**.  \n",
    "\n",
    "- **Klasa (`pclass`)**  \n",
    "  Najwięcej osób podróżowało w **3. klasie (709 pasażerów)**.  \n",
    "  W 1. klasie znajdowało się **323 pasażerów**, a w 2. klasie **277 pasażerów**.  \n",
    "  Potwierdza to, że Titanic był w dużej mierze wypełniony pasażerami niższej klasy.  \n",
    "\n",
    "- **Port wejścia na pokład (`embarked`)**  \n",
    "  Większość pasażerów weszła na pokład w **Southampton (914 osób)**.  \n",
    "  W **Cherbourgu** zaokrętowało się **270 osób**, a w **Queenstown** **123 osoby**.  \n",
    "  Southampton było więc głównym portem początkowym rejsu.  \n"
   ]
  },
  {
   "cell_type": "markdown",
   "metadata": {
    "editable": true,
    "slideshow": {
     "slide_type": "slide"
    },
    "tags": []
   },
   "source": [
    "**Wnioski – analiza wstępna**\n",
    "\n",
    "Na etapie analizy wstępnej udało się zidentyfikować kilka kluczowych cech zbioru:\n",
    "\n",
    "- **Rozmiar i struktura**: dane obejmują 1310 pasażerów i 14 kolumn z informacjami o podróży, demografii oraz losach pasażerów.  \n",
    "- **Braki danych**: znaczna część kolumn (`body`, `cabin`, `boat`, `home.dest`) zawiera bardzo dużo braków i ich użyteczność w analizie jest ograniczona. Wiek (`age`) ma ok. 20% braków, co będzie wymagało decyzji, jak je uzupełnić.  \n",
    "- **Statystyki opisowe**: średni wiek pasażerów to ok. 30 lat, a rozkład wieku obejmuje zarówno dzieci, jak i osoby starsze do 80 lat. Średnia cena biletu wynosi ok. 33 jednostki, ale mediana to tylko 14 – oznacza to, że większość pasażerów płaciła stosunkowo niewiele, a pojedyncze bardzo drogie bilety zawyżają średnią.  \n",
    "- **Zmienne kategoryczne**:  \n",
    "  - dominowali **mężczyźni** (ok. 65%),  \n",
    "  - większość pasażerów podróżowała w **3. klasie**,  \n",
    "  - głównym portem wejścia na pokład było **Southampton**.  \n",
    "- **Zmienna celu (`survived`)**: już na pierwszy rzut oka widać, że większość pasażerów nie przeżyła katastrofy – szczegółową analizę przeżywalności przeprowadzimy w kolejnych krokach.\n",
    "\n",
    "Na tej podstawie można przejść do **analizy szczegółowej czynników wpływających na przeżycie pasażerów**.\n"
   ]
  },
  {
   "cell_type": "markdown",
   "metadata": {
    "editable": true,
    "slideshow": {
     "slide_type": "slide"
    },
    "tags": []
   },
   "source": [
    "## **3. Analiza szczegółowa przeżywalności pasażerów**"
   ]
  },
  {
   "cell_type": "code",
   "execution_count": 11,
   "metadata": {
    "editable": true,
    "slideshow": {
     "slide_type": ""
    },
    "tags": [
     "hide"
    ]
   },
   "outputs": [],
   "source": [
    "# Kopia oryginalnych danych, żeby zachować czystość\n",
    "df_clean = df.copy()\n",
    "\n",
    "# Zamiana płci\n",
    "df_clean['sex'] = df_clean['sex'].map({\n",
    "    'male': 'Mężczyzna',\n",
    "    'female': 'Kobieta'\n",
    "})\n",
    "\n",
    "# Zamiana klas podróży\n",
    "df_clean['pclass'] = df_clean['pclass'].map({\n",
    "    1: '1 klasa',\n",
    "    2: '2 klasa',\n",
    "    3: '3 klasa'\n",
    "})\n",
    "\n",
    "# Zamiana portów wejścia na pokład\n",
    "df_clean['embarked'] = df_clean['embarked'].map({\n",
    "    'S': 'Southampton',\n",
    "    'C': 'Cherbourg',\n",
    "    'Q': 'Queenstown'\n",
    "})"
   ]
  },
  {
   "cell_type": "markdown",
   "metadata": {
    "editable": true,
    "slideshow": {
     "slide_type": "slide"
    },
    "tags": []
   },
   "source": [
    "#### **Rozkład zmiennej celu (survived)**\n",
    "Poniżej liczy, procenty oraz wykres przedstawiają ogólną przeżywalność pasażerów Titanica.  \n",
    "Zestawiono liczbę osób, które przeżyły oraz które nie przeżyły katastrofy."
   ]
  },
  {
   "cell_type": "code",
   "execution_count": 12,
   "metadata": {
    "editable": true,
    "slideshow": {
     "slide_type": "fragment"
    },
    "tags": [
     "hide-input"
    ]
   },
   "outputs": [
    {
     "name": "stdout",
     "output_type": "stream",
     "text": [
      "✅ Przeżyło: 500 osób (38.2%)\n",
      "❌ Nie przeżyło: 809 osób (61.8%)\n"
     ]
    }
   ],
   "source": [
    "survival_counts = df['survived'].value_counts()\n",
    "\n",
    "przezyli = int(survival_counts.get(1.0, 0))\n",
    "nie_przezyli = int(survival_counts.get(0.0, 0))\n",
    "procent_przezyli = round(przezyli / (przezyli + nie_przezyli) * 100, 2)\n",
    "\n",
    "print(f\"✅ Przeżyło: {przezyli} osób ({procent_przezyli}%)\")\n",
    "print(f\"❌ Nie przeżyło: {nie_przezyli} osób ({100 - procent_przezyli}%)\")"
   ]
  },
  {
   "cell_type": "code",
   "execution_count": 13,
   "metadata": {
    "editable": true,
    "slideshow": {
     "slide_type": "fragment"
    },
    "tags": [
     "hide-input"
    ]
   },
   "outputs": [
    {
     "data": {
      "image/png": "[encoded data removed]",
      "text/plain": [
       "<Figure size 500x400 with 1 Axes>"
      ]
     },
     "metadata": {},
     "output_type": "display_data"
    }
   ],
   "source": [
    "import matplotlib.pyplot as plt\n",
    "\n",
    "plt.figure(figsize=(5,4))\n",
    "df['survived'].value_counts().plot(kind='bar', color=['red','green'])\n",
    "plt.xticks([0,1], ['Nie przeżyli', 'Przeżyli'], rotation=0)\n",
    "plt.ylabel(\"Liczba pasażerów\")\n",
    "plt.title(\"Przeżywalność pasażerów Titanica\")\n",
    "plt.show()"
   ]
  },
  {
   "cell_type": "markdown",
   "metadata": {
    "editable": true,
    "slideshow": {
     "slide_type": "slide"
    },
    "tags": []
   },
   "source": [
    "Analiza kolumny survived pokazuje, że katastrofę Titanica przeżyła część pasażerów, jednak większość zginęła.\n",
    "Łącznie 500 osób przeżyło (ok. 38% wszystkich pasażerów), natomiast 809 osób nie przeżyło (ok. 62%).\n",
    "\n",
    "Oznacza to, że szansa na przeżycie wynosiła poniżej 50% i już na tym etapie widać, że dalsza analiza powinna wyjaśnić, jakie czynniki zwiększały prawdopodobieństwo przeżycia."
   ]
  },
  {
   "cell_type": "markdown",
   "metadata": {
    "editable": true,
    "slideshow": {
     "slide_type": "slide"
    },
    "tags": []
   },
   "source": [
    "#### **Wpływ płci na przeżywalność**\n",
    "Tabela i wykres pokazują liczbę pasażerów oraz procent przeżywalności w podziale na kobiety i mężczyzn.  \n",
    "Celem jest sprawdzenie, czy płeć miała znaczenie dla szans przeżycia."
   ]
  },
  {
   "cell_type": "code",
   "execution_count": 14,
   "metadata": {
    "editable": true,
    "slideshow": {
     "slide_type": "fragment"
    },
    "tags": [
     "hide-input"
    ]
   },
   "outputs": [
    {
     "data": {
      "text/html": [
       "<div>\n",
       "<style scoped>\n",
       "    .dataframe tbody tr th:only-of-type {\n",
       "        vertical-align: middle;\n",
       "    }\n",
       "\n",
       "    .dataframe tbody tr th {\n",
       "        vertical-align: top;\n",
       "    }\n",
       "\n",
       "    .dataframe thead th {\n",
       "        text-align: right;\n",
       "    }\n",
       "</style>\n",
       "<table border=\"1\" class=\"dataframe\">\n",
       "  <thead>\n",
       "    <tr style=\"text-align: right;\">\n",
       "      <th></th>\n",
       "      <th>Liczba osób</th>\n",
       "      <th>Przeżyło</th>\n",
       "      <th>przeżyli (%)</th>\n",
       "    </tr>\n",
       "    <tr>\n",
       "      <th>sex</th>\n",
       "      <th></th>\n",
       "      <th></th>\n",
       "      <th></th>\n",
       "    </tr>\n",
       "  </thead>\n",
       "  <tbody>\n",
       "    <tr>\n",
       "      <th>Kobieta</th>\n",
       "      <td>466</td>\n",
       "      <td>339.0</td>\n",
       "      <td>72.75</td>\n",
       "    </tr>\n",
       "    <tr>\n",
       "      <th>Mężczyzna</th>\n",
       "      <td>843</td>\n",
       "      <td>161.0</td>\n",
       "      <td>19.10</td>\n",
       "    </tr>\n",
       "  </tbody>\n",
       "</table>\n",
       "</div>"
      ],
      "text/plain": [
       "           Liczba osób  Przeżyło  przeżyli (%)\n",
       "sex                                           \n",
       "Kobieta            466     339.0         72.75\n",
       "Mężczyzna          843     161.0         19.10"
      ]
     },
     "execution_count": 14,
     "metadata": {},
     "output_type": "execute_result"
    }
   ],
   "source": [
    "# Zamieniamy etykiety na polskie dla spójności\n",
    "df_clean = df.copy()\n",
    "df_clean['sex'] = df_clean['sex'].map({'male': 'Mężczyzna', 'female': 'Kobieta'})\n",
    "\n",
    "# Liczby i procenty\n",
    "survival_by_sex = df_clean.groupby('sex')['survived'].agg(['count', 'sum'])\n",
    "survival_by_sex['przeżyli (%)'] = round(survival_by_sex['sum'] / survival_by_sex['count'] * 100, 2)\n",
    "survival_by_sex.rename(columns={'count':'Liczba osób', 'sum':'Przeżyło'}, inplace=True)\n",
    "survival_by_sex"
   ]
  },
  {
   "cell_type": "code",
   "execution_count": 15,
   "metadata": {
    "editable": true,
    "slideshow": {
     "slide_type": "fragment"
    },
    "tags": [
     "hide-input"
    ]
   },
   "outputs": [
    {
     "data": {
      "image/png": "[encoded data removed]",
      "text/plain": [
       "<Figure size 600x400 with 1 Axes>"
      ]
     },
     "metadata": {},
     "output_type": "display_data"
    }
   ],
   "source": [
    "plt.figure(figsize=(6,4))\n",
    "df_clean.groupby('sex')['survived'].mean().plot(kind='bar', color=['pink','blue'])\n",
    "plt.xticks(rotation=0)\n",
    "plt.ylabel(\"Odsetek przeżycia\")\n",
    "plt.title(\"Przeżywalność wg płci\")\n",
    "plt.show()"
   ]
  },
  {
   "cell_type": "markdown",
   "metadata": {
    "editable": true,
    "slideshow": {
     "slide_type": "slide"
    },
    "tags": []
   },
   "source": [
    "**Analiza pokazała duże różnice między płciami:**\n",
    "\n",
    "- Kobiety: przeżyło **339 z 466** (≈ **72%**)  \n",
    "- Mężczyźni: przeżyło **161 z 843** (≈ **19%**)  \n",
    "\n",
    "Wykres potwierdza, że kobiety miały znacznie większe szanse na przeżycie, co jest zgodne z zasadą \"kobiety i dzieci pierwsze\"."
   ]
  },
  {
   "cell_type": "markdown",
   "metadata": {
    "editable": true,
    "slideshow": {
     "slide_type": "slide"
    },
    "tags": []
   },
   "source": [
    "#### **Wpływ klasy podróży na przeżywalność**\n",
    "Analiza przeżywalności w podziale na klasy biletowe (1, 2 i 3).  \n",
    "Zestawiono liczbę pasażerów w każdej klasie, ilu z nich przeżyło oraz procent przeżycia.  \n",
    "Wizualizacja pozwala sprawdzić, czy wyższa klasa podróży dawała większe szanse przeżycia."
   ]
  },
  {
   "cell_type": "code",
   "execution_count": 16,
   "metadata": {
    "editable": true,
    "slideshow": {
     "slide_type": "fragment"
    },
    "tags": [
     "hide-input"
    ]
   },
   "outputs": [
    {
     "data": {
      "text/html": [
       "<div>\n",
       "<style scoped>\n",
       "    .dataframe tbody tr th:only-of-type {\n",
       "        vertical-align: middle;\n",
       "    }\n",
       "\n",
       "    .dataframe tbody tr th {\n",
       "        vertical-align: top;\n",
       "    }\n",
       "\n",
       "    .dataframe thead th {\n",
       "        text-align: right;\n",
       "    }\n",
       "</style>\n",
       "<table border=\"1\" class=\"dataframe\">\n",
       "  <thead>\n",
       "    <tr style=\"text-align: right;\">\n",
       "      <th></th>\n",
       "      <th>Liczba osób</th>\n",
       "      <th>Przeżyło</th>\n",
       "      <th>przeżyli (%)</th>\n",
       "    </tr>\n",
       "    <tr>\n",
       "      <th>pclass</th>\n",
       "      <th></th>\n",
       "      <th></th>\n",
       "      <th></th>\n",
       "    </tr>\n",
       "  </thead>\n",
       "  <tbody>\n",
       "    <tr>\n",
       "      <th>1 klasa</th>\n",
       "      <td>323</td>\n",
       "      <td>200.0</td>\n",
       "      <td>61.92</td>\n",
       "    </tr>\n",
       "    <tr>\n",
       "      <th>2 klasa</th>\n",
       "      <td>277</td>\n",
       "      <td>119.0</td>\n",
       "      <td>42.96</td>\n",
       "    </tr>\n",
       "    <tr>\n",
       "      <th>3 klasa</th>\n",
       "      <td>709</td>\n",
       "      <td>181.0</td>\n",
       "      <td>25.53</td>\n",
       "    </tr>\n",
       "  </tbody>\n",
       "</table>\n",
       "</div>"
      ],
      "text/plain": [
       "         Liczba osób  Przeżyło  przeżyli (%)\n",
       "pclass                                      \n",
       "1 klasa          323     200.0         61.92\n",
       "2 klasa          277     119.0         42.96\n",
       "3 klasa          709     181.0         25.53"
      ]
     },
     "execution_count": 16,
     "metadata": {},
     "output_type": "execute_result"
    }
   ],
   "source": [
    " # Zamieniamy klasy na bardziej czytelne\n",
    "df_clean['pclass'] = df_clean['pclass'].map({1: '1 klasa', 2: '2 klasa', 3: '3 klasa'})\n",
    "\n",
    "# Liczby i procenty\n",
    "survival_by_class = df_clean.groupby('pclass')['survived'].agg(['count','sum'])\n",
    "survival_by_class['przeżyli (%)'] = round(survival_by_class['sum'] / survival_by_class['count'] * 100, 2)\n",
    "survival_by_class.rename(columns={'count':'Liczba osób', 'sum':'Przeżyło'}, inplace=True)\n",
    "survival_by_class\n"
   ]
  },
  {
   "cell_type": "markdown",
   "metadata": {
    "editable": true,
    "slideshow": {
     "slide_type": "fragment"
    },
    "tags": []
   },
   "source": [
    "Analiza przeżywalności w podziale na klasy pokazuje wyraźne różnice:\n",
    "\n",
    "- **1 klasa**: przeżyło 200 z 323 pasażerów (≈ 61,9%)  \n",
    "- **2 klasa**: przeżyło 119 z 277 pasażerów (≈ 43,0%)  \n",
    "- **3 klasa**: przeżyło 181 z 709 pasażerów (≈ 25,5%)  \n",
    "\n",
    "Wyniki potwierdzają, że pasażerowie z wyższych klas mieli znacznie większe szanse na przeżycie.  \n",
    "Największą przeżywalność odnotowano w 1. klasie (ponad 60%), natomiast pasażerowie 3. klasy byli najbardziej narażeni – tylko 1 na 4 osoby przeżyły katastrofę."
   ]
  },
  {
   "cell_type": "markdown",
   "metadata": {
    "editable": true,
    "slideshow": {
     "slide_type": "slide"
    },
    "tags": []
   },
   "source": [
    "#### **Wpływ wieku na przeżywalność**\n",
    "Tabela pokazuje podstawowe statystyki wieku pasażerów w podziale na przeżyłych i nieprzeżyłych.  \n",
    "Dodatkowo wykres pudełkowy (boxplot) pozwala porównać rozkład wieku między obiema grupami,  \n",
    "co ułatwia ocenę, czy wiek miał wpływ na szanse przeżycia."
   ]
  },
  {
   "cell_type": "code",
   "execution_count": 17,
   "metadata": {
    "editable": true,
    "slideshow": {
     "slide_type": ""
    },
    "tags": [
     "hide"
    ]
   },
   "outputs": [],
   "source": [
    "# Kopia danych do analizy\n",
    "df_clean = df.copy()\n",
    "\n",
    "# Zamiana wartości w survived na czytelne etykiety\n",
    "df_clean['survived'] = df_clean['survived'].map({0: 'Nie przeżył', 1: 'Przeżył'})"
   ]
  },
  {
   "cell_type": "code",
   "execution_count": 18,
   "metadata": {
    "editable": true,
    "slideshow": {
     "slide_type": "fragment"
    },
    "tags": [
     "hide-input"
    ]
   },
   "outputs": [
    {
     "data": {
      "text/html": [
       "<div>\n",
       "<style scoped>\n",
       "    .dataframe tbody tr th:only-of-type {\n",
       "        vertical-align: middle;\n",
       "    }\n",
       "\n",
       "    .dataframe tbody tr th {\n",
       "        vertical-align: top;\n",
       "    }\n",
       "\n",
       "    .dataframe thead th {\n",
       "        text-align: right;\n",
       "    }\n",
       "</style>\n",
       "<table border=\"1\" class=\"dataframe\">\n",
       "  <thead>\n",
       "    <tr style=\"text-align: right;\">\n",
       "      <th></th>\n",
       "      <th>count</th>\n",
       "      <th>mean</th>\n",
       "      <th>std</th>\n",
       "      <th>min</th>\n",
       "      <th>25%</th>\n",
       "      <th>50%</th>\n",
       "      <th>75%</th>\n",
       "      <th>max</th>\n",
       "    </tr>\n",
       "    <tr>\n",
       "      <th>survived</th>\n",
       "      <th></th>\n",
       "      <th></th>\n",
       "      <th></th>\n",
       "      <th></th>\n",
       "      <th></th>\n",
       "      <th></th>\n",
       "      <th></th>\n",
       "      <th></th>\n",
       "    </tr>\n",
       "  </thead>\n",
       "  <tbody>\n",
       "    <tr>\n",
       "      <th>Nie przeżył</th>\n",
       "      <td>619.0</td>\n",
       "      <td>30.55</td>\n",
       "      <td>13.92</td>\n",
       "      <td>0.33</td>\n",
       "      <td>21.0</td>\n",
       "      <td>28.0</td>\n",
       "      <td>39.0</td>\n",
       "      <td>74.0</td>\n",
       "    </tr>\n",
       "    <tr>\n",
       "      <th>Przeżył</th>\n",
       "      <td>427.0</td>\n",
       "      <td>28.92</td>\n",
       "      <td>15.06</td>\n",
       "      <td>0.17</td>\n",
       "      <td>20.0</td>\n",
       "      <td>28.0</td>\n",
       "      <td>38.0</td>\n",
       "      <td>80.0</td>\n",
       "    </tr>\n",
       "  </tbody>\n",
       "</table>\n",
       "</div>"
      ],
      "text/plain": [
       "             count   mean    std   min   25%   50%   75%   max\n",
       "survived                                                      \n",
       "Nie przeżył  619.0  30.55  13.92  0.33  21.0  28.0  39.0  74.0\n",
       "Przeżył      427.0  28.92  15.06  0.17  20.0  28.0  38.0  80.0"
      ]
     },
     "execution_count": 18,
     "metadata": {},
     "output_type": "execute_result"
    }
   ],
   "source": [
    "# Podstawowe statystyki wieku w podziale na status przeżycia\n",
    "df_clean.groupby('survived')['age'].describe().round(2)"
   ]
  },
  {
   "cell_type": "code",
   "execution_count": 19,
   "metadata": {
    "editable": true,
    "slideshow": {
     "slide_type": "slide"
    },
    "tags": [
     "hide-input"
    ]
   },
   "outputs": [
    {
     "data": {
      "image/png": "[encoded data removed]",
      "text/plain": [
       "<Figure size 700x400 with 1 Axes>"
      ]
     },
     "metadata": {},
     "output_type": "display_data"
    }
   ],
   "source": [
    "import seaborn as sns\n",
    "import matplotlib.pyplot as plt\n",
    "\n",
    "plt.figure(figsize=(7,4))\n",
    "sns.boxplot(x='survived', y='age', data=df_clean, palette={\"Nie przeżył\": \"red\", \"Przeżył\": \"green\"})\n",
    "plt.xlabel(\"Status przeżycia\")\n",
    "plt.ylabel(\"Wiek\")\n",
    "plt.title(\"Wiek pasażerów a przeżywalność\")\n",
    "plt.show()\n"
   ]
  },
  {
   "cell_type": "markdown",
   "metadata": {
    "editable": true,
    "slideshow": {
     "slide_type": ""
    },
    "tags": []
   },
   "source": [
    "**Analiza wieku pasażerów w podziale na status przeżycia pokazuje, że:**\n",
    "\n",
    "- **Osoby, które nie przeżyły**: średni wiek wynosił ok. **30,6 roku**,  \n",
    "  mediana **28 lat**, najmłodsza ofiara miała zaledwie kilka miesięcy,  \n",
    "  a najstarsza osoba w tej grupie miała **74 lata**.  \n",
    "\n",
    "- **Osoby, które przeżyły**: średni wiek wynosił ok. **28,9 roku**,  \n",
    "  mediana również **28 lat**, a najmłodszy ocalały miał kilka miesięcy,  \n",
    "  natomiast najstarszy miał aż **80 lat**.  \n",
    "\n",
    "Wyniki sugerują, że **różnice wieku między grupami nie były duże**,  \n",
    "choć można zauważyć, że wśród ocalałych znajdowało się nieco więcej młodszych osób oraz d"
   ]
  },
  {
   "cell_type": "markdown",
   "metadata": {
    "editable": true,
    "slideshow": {
     "slide_type": "slide"
    },
    "tags": []
   },
   "source": [
    "#### **Wpływ portu wejścia na pokład**\n",
    "Poniższa tabela i wykres prezentują przeżywalność pasażerów w zależności od portu wejścia na pokład:  \n",
    "Southampton, Cherbourg oraz Queenstown.  \n",
    "Analiza pozwala ocenić, czy miejsce zaokrętowania miało wpływ na szanse przeżycia."
   ]
  },
  {
   "cell_type": "code",
   "execution_count": 20,
   "metadata": {
    "editable": true,
    "slideshow": {
     "slide_type": "fragment"
    },
    "tags": [
     "hide-input"
    ]
   },
   "outputs": [
    {
     "data": {
      "text/html": [
       "<div>\n",
       "<style scoped>\n",
       "    .dataframe tbody tr th:only-of-type {\n",
       "        vertical-align: middle;\n",
       "    }\n",
       "\n",
       "    .dataframe tbody tr th {\n",
       "        vertical-align: top;\n",
       "    }\n",
       "\n",
       "    .dataframe thead th {\n",
       "        text-align: right;\n",
       "    }\n",
       "</style>\n",
       "<table border=\"1\" class=\"dataframe\">\n",
       "  <thead>\n",
       "    <tr style=\"text-align: right;\">\n",
       "      <th></th>\n",
       "      <th>Liczba osób</th>\n",
       "      <th>Przeżyło</th>\n",
       "      <th>przeżyli (%)</th>\n",
       "    </tr>\n",
       "    <tr>\n",
       "      <th>embarked</th>\n",
       "      <th></th>\n",
       "      <th></th>\n",
       "      <th></th>\n",
       "    </tr>\n",
       "  </thead>\n",
       "  <tbody>\n",
       "    <tr>\n",
       "      <th>Cherbourg</th>\n",
       "      <td>270</td>\n",
       "      <td>150</td>\n",
       "      <td>55.56</td>\n",
       "    </tr>\n",
       "    <tr>\n",
       "      <th>Queenstown</th>\n",
       "      <td>123</td>\n",
       "      <td>44</td>\n",
       "      <td>35.77</td>\n",
       "    </tr>\n",
       "    <tr>\n",
       "      <th>Southampton</th>\n",
       "      <td>914</td>\n",
       "      <td>304</td>\n",
       "      <td>33.26</td>\n",
       "    </tr>\n",
       "  </tbody>\n",
       "</table>\n",
       "</div>"
      ],
      "text/plain": [
       "             Liczba osób  Przeżyło  przeżyli (%)\n",
       "embarked                                        \n",
       "Cherbourg            270       150         55.56\n",
       "Queenstown           123        44         35.77\n",
       "Southampton          914       304         33.26"
      ]
     },
     "execution_count": 20,
     "metadata": {},
     "output_type": "execute_result"
    }
   ],
   "source": [
    "# Zamiana portów na pełne nazwy\n",
    "df_clean['embarked'] = df_clean['embarked'].map({\n",
    "    'S': 'Southampton',\n",
    "    'C': 'Cherbourg',\n",
    "    'Q': 'Queenstown'\n",
    "})\n",
    "\n",
    "# Grupowanie po porcie wejścia i obliczenie liczby oraz procentu przeżycia\n",
    "survival_by_port = df_clean.groupby('embarked')['survived'].agg(['count', lambda x: (x == \"Przeżył\").sum()])\n",
    "survival_by_port.columns = ['Liczba osób', 'Przeżyło']\n",
    "survival_by_port['przeżyli (%)'] = round(survival_by_port['Przeżyło'] / survival_by_port['Liczba osób'] * 100, 2)\n",
    "survival_by_port\n"
   ]
  },
  {
   "cell_type": "code",
   "execution_count": 21,
   "metadata": {
    "editable": true,
    "slideshow": {
     "slide_type": ""
    },
    "tags": [
     "hide-input"
    ]
   },
   "outputs": [
    {
     "data": {
      "image/png": "[encoded data removed]",
      "text/plain": [
       "<Figure size 600x400 with 1 Axes>"
      ]
     },
     "metadata": {},
     "output_type": "display_data"
    }
   ],
   "source": [
    "import matplotlib.pyplot as plt\n",
    "\n",
    "plt.figure(figsize=(6,4))\n",
    "df_clean.groupby('embarked')['survived'].apply(lambda x: (x==\"Przeżył\").mean()).plot(kind='bar', color=['blue','orange','green'])\n",
    "plt.xticks(rotation=0)\n",
    "plt.ylabel(\"Odsetek przeżycia\")\n",
    "plt.title(\"Przeżywalność wg portu wejścia na pokład\")\n",
    "plt.show()\n"
   ]
  },
  {
   "cell_type": "markdown",
   "metadata": {
    "editable": true,
    "slideshow": {
     "slide_type": "slide"
    },
    "tags": []
   },
   "source": [
    "**Analiza przeżywalności w zależności od portu wejścia na pokład pokazała wyraźne różnice:**\n",
    "\n",
    "- **Cherbourg**: przeżyło 150 z 270 osób (≈ 55,6%)  \n",
    "- **Queenstown**: przeżyło 44 ze 123 osób (≈ 35,8%)  \n",
    "- **Southampton**: przeżyło 304 z 914 osób (≈ 33,3%)  \n",
    "\n",
    "Najwyższą przeżywalność odnotowano wśród pasażerów wsiadających w **Cherbourgu**,  \n",
    "gdzie przeżyła ponad połowa podróżnych. Najniższe wskaźniki przeżycia mieli pasażerowie  \n",
    "z **Southampton** oraz **Queenstown** (około 1/3 osób).  \n",
    "\n",
    "Różnice te można częściowo tłumaczyć strukturą pasażerów – w Cherbourgu na pokład wsiadało wielu pasażerów 1. klasy,  \n",
    "podczas gdy w Southampton dominowali podróżni z 3. klasy."
   ]
  },
  {
   "cell_type": "markdown",
   "metadata": {
    "editable": true,
    "slideshow": {
     "slide_type": "slide"
    },
    "tags": []
   },
   "source": [
    "#### **Wpływ liczby krewnych na pokładzie na przeżywalność**"
   ]
  },
  {
   "cell_type": "code",
   "execution_count": 22,
   "metadata": {
    "editable": true,
    "slideshow": {
     "slide_type": ""
    },
    "tags": [
     "hide"
    ]
   },
   "outputs": [],
   "source": [
    "# Kopia danych dla przejrzystości\n",
    "df_clean = df_clean.rename(columns={\n",
    "    'sibsp': 'rodzeństwo/małżonkowie',\n",
    "    'parch': 'rodzice/dzieci'\n",
    "})"
   ]
  },
  {
   "cell_type": "markdown",
   "metadata": {
    "editable": true,
    "slideshow": {
     "slide_type": "fragment"
    },
    "tags": []
   },
   "source": [
    "Dwie poniższe analizy pokazują przeżywalność w zależności od liczby krewnych na pokładzie:  \n",
    "- rodzeństwa/małżonków (`sibsp`),  \n",
    "- rodziców/dzieci (`parch`).  \n",
    "\n",
    "Dla każdej z tych zmiennych przygotowano tabelę i wykres, aby sprawdzić, czy podróżowanie z rodziną zwiększało szanse przeżycia.\n",
    "\n",
    "* Tabela i wykres przeżywalności w zależności od liczby rodzeństwa/małżonków na pokładzie "
   ]
  },
  {
   "cell_type": "code",
   "execution_count": 23,
   "metadata": {
    "editable": true,
    "slideshow": {
     "slide_type": "fragment"
    },
    "tags": [
     "hide-input"
    ]
   },
   "outputs": [
    {
     "data": {
      "text/html": [
       "<div>\n",
       "<style scoped>\n",
       "    .dataframe tbody tr th:only-of-type {\n",
       "        vertical-align: middle;\n",
       "    }\n",
       "\n",
       "    .dataframe tbody tr th {\n",
       "        vertical-align: top;\n",
       "    }\n",
       "\n",
       "    .dataframe thead th {\n",
       "        text-align: right;\n",
       "    }\n",
       "</style>\n",
       "<table border=\"1\" class=\"dataframe\">\n",
       "  <thead>\n",
       "    <tr style=\"text-align: right;\">\n",
       "      <th></th>\n",
       "      <th>Liczba pasażerów</th>\n",
       "      <th>Przeżyło</th>\n",
       "      <th>Przeżyli (%)</th>\n",
       "    </tr>\n",
       "    <tr>\n",
       "      <th>rodzeństwo/małżonkowie</th>\n",
       "      <th></th>\n",
       "      <th></th>\n",
       "      <th></th>\n",
       "    </tr>\n",
       "  </thead>\n",
       "  <tbody>\n",
       "    <tr>\n",
       "      <th>0.0</th>\n",
       "      <td>891</td>\n",
       "      <td>309</td>\n",
       "      <td>34.68</td>\n",
       "    </tr>\n",
       "    <tr>\n",
       "      <th>1.0</th>\n",
       "      <td>319</td>\n",
       "      <td>163</td>\n",
       "      <td>51.10</td>\n",
       "    </tr>\n",
       "    <tr>\n",
       "      <th>2.0</th>\n",
       "      <td>42</td>\n",
       "      <td>19</td>\n",
       "      <td>45.24</td>\n",
       "    </tr>\n",
       "    <tr>\n",
       "      <th>3.0</th>\n",
       "      <td>20</td>\n",
       "      <td>6</td>\n",
       "      <td>30.00</td>\n",
       "    </tr>\n",
       "    <tr>\n",
       "      <th>4.0</th>\n",
       "      <td>22</td>\n",
       "      <td>3</td>\n",
       "      <td>13.64</td>\n",
       "    </tr>\n",
       "    <tr>\n",
       "      <th>5.0</th>\n",
       "      <td>6</td>\n",
       "      <td>0</td>\n",
       "      <td>0.00</td>\n",
       "    </tr>\n",
       "    <tr>\n",
       "      <th>8.0</th>\n",
       "      <td>9</td>\n",
       "      <td>0</td>\n",
       "      <td>0.00</td>\n",
       "    </tr>\n",
       "  </tbody>\n",
       "</table>\n",
       "</div>"
      ],
      "text/plain": [
       "                        Liczba pasażerów  Przeżyło  Przeżyli (%)\n",
       "rodzeństwo/małżonkowie                                          \n",
       "0.0                                  891       309         34.68\n",
       "1.0                                  319       163         51.10\n",
       "2.0                                   42        19         45.24\n",
       "3.0                                   20         6         30.00\n",
       "4.0                                   22         3         13.64\n",
       "5.0                                    6         0          0.00\n",
       "8.0                                    9         0          0.00"
      ]
     },
     "execution_count": 23,
     "metadata": {},
     "output_type": "execute_result"
    }
   ],
   "source": [
    "# Tabela\n",
    "survival_by_sibsp = df_clean.groupby('rodzeństwo/małżonkowie')['survived'].agg(['count', lambda x: (x==\"Przeżył\").sum()])\n",
    "survival_by_sibsp.columns = ['Liczba pasażerów', 'Przeżyło']\n",
    "survival_by_sibsp['Przeżyli (%)'] = round(survival_by_sibsp['Przeżyło'] / survival_by_sibsp['Liczba pasażerów'] * 100, 2)\n",
    "survival_by_sibsp"
   ]
  },
  {
   "cell_type": "code",
   "execution_count": 24,
   "metadata": {
    "editable": true,
    "slideshow": {
     "slide_type": "slide"
    },
    "tags": [
     "hide-input"
    ]
   },
   "outputs": [
    {
     "data": {
      "image/png": "[encoded data removed]",
      "text/plain": [
       "<Figure size 700x400 with 1 Axes>"
      ]
     },
     "metadata": {},
     "output_type": "display_data"
    }
   ],
   "source": [
    "import matplotlib.pyplot as plt\n",
    "\n",
    "plt.figure(figsize=(7,4))\n",
    "df_clean.groupby('rodzeństwo/małżonkowie')['survived'].apply(lambda x: (x==\"Przeżył\").mean()).plot(kind='bar', color='skyblue')\n",
    "\n",
    "plt.ylabel(\"Odsetek przeżycia (%)\")\n",
    "plt.xlabel(\"Liczba rodzeństwa/małżonków\")\n",
    "plt.title(\"Przeżywalność wg liczby rodzeństwa/małżonków\")\n",
    "plt.show()"
   ]
  },
  {
   "cell_type": "markdown",
   "metadata": {
    "editable": true,
    "slideshow": {
     "slide_type": "slide"
    },
    "tags": []
   },
   "source": [
    "* Tabela i wykres przeżywalności w zależności od liczby rodzice/dzieciw na pokładzie"
   ]
  },
  {
   "cell_type": "code",
   "execution_count": 25,
   "metadata": {
    "editable": true,
    "slideshow": {
     "slide_type": "fragment"
    },
    "tags": [
     "hide-input"
    ]
   },
   "outputs": [
    {
     "data": {
      "text/html": [
       "<div>\n",
       "<style scoped>\n",
       "    .dataframe tbody tr th:only-of-type {\n",
       "        vertical-align: middle;\n",
       "    }\n",
       "\n",
       "    .dataframe tbody tr th {\n",
       "        vertical-align: top;\n",
       "    }\n",
       "\n",
       "    .dataframe thead th {\n",
       "        text-align: right;\n",
       "    }\n",
       "</style>\n",
       "<table border=\"1\" class=\"dataframe\">\n",
       "  <thead>\n",
       "    <tr style=\"text-align: right;\">\n",
       "      <th></th>\n",
       "      <th>Liczba pasażerów</th>\n",
       "      <th>Przeżyło</th>\n",
       "      <th>Przeżyli (%)</th>\n",
       "    </tr>\n",
       "    <tr>\n",
       "      <th>rodzice/dzieci</th>\n",
       "      <th></th>\n",
       "      <th></th>\n",
       "      <th></th>\n",
       "    </tr>\n",
       "  </thead>\n",
       "  <tbody>\n",
       "    <tr>\n",
       "      <th>0.0</th>\n",
       "      <td>1002</td>\n",
       "      <td>336</td>\n",
       "      <td>33.53</td>\n",
       "    </tr>\n",
       "    <tr>\n",
       "      <th>1.0</th>\n",
       "      <td>170</td>\n",
       "      <td>100</td>\n",
       "      <td>58.82</td>\n",
       "    </tr>\n",
       "    <tr>\n",
       "      <th>2.0</th>\n",
       "      <td>113</td>\n",
       "      <td>57</td>\n",
       "      <td>50.44</td>\n",
       "    </tr>\n",
       "    <tr>\n",
       "      <th>3.0</th>\n",
       "      <td>8</td>\n",
       "      <td>5</td>\n",
       "      <td>62.50</td>\n",
       "    </tr>\n",
       "    <tr>\n",
       "      <th>4.0</th>\n",
       "      <td>6</td>\n",
       "      <td>1</td>\n",
       "      <td>16.67</td>\n",
       "    </tr>\n",
       "    <tr>\n",
       "      <th>5.0</th>\n",
       "      <td>6</td>\n",
       "      <td>1</td>\n",
       "      <td>16.67</td>\n",
       "    </tr>\n",
       "    <tr>\n",
       "      <th>6.0</th>\n",
       "      <td>2</td>\n",
       "      <td>0</td>\n",
       "      <td>0.00</td>\n",
       "    </tr>\n",
       "    <tr>\n",
       "      <th>9.0</th>\n",
       "      <td>2</td>\n",
       "      <td>0</td>\n",
       "      <td>0.00</td>\n",
       "    </tr>\n",
       "  </tbody>\n",
       "</table>\n",
       "</div>"
      ],
      "text/plain": [
       "                Liczba pasażerów  Przeżyło  Przeżyli (%)\n",
       "rodzice/dzieci                                          \n",
       "0.0                         1002       336         33.53\n",
       "1.0                          170       100         58.82\n",
       "2.0                          113        57         50.44\n",
       "3.0                            8         5         62.50\n",
       "4.0                            6         1         16.67\n",
       "5.0                            6         1         16.67\n",
       "6.0                            2         0          0.00\n",
       "9.0                            2         0          0.00"
      ]
     },
     "execution_count": 25,
     "metadata": {},
     "output_type": "execute_result"
    }
   ],
   "source": [
    "# Tabela\n",
    "survival_by_parch = df_clean.groupby('rodzice/dzieci')['survived'].agg(['count', lambda x: (x==\"Przeżył\").sum()])\n",
    "survival_by_parch.columns = ['Liczba pasażerów', 'Przeżyło']\n",
    "survival_by_parch['Przeżyli (%)'] = round(survival_by_parch['Przeżyło'] / survival_by_parch['Liczba pasażerów'] * 100, 2)\n",
    "survival_by_parch\n"
   ]
  },
  {
   "cell_type": "code",
   "execution_count": 26,
   "metadata": {
    "editable": true,
    "slideshow": {
     "slide_type": ""
    },
    "tags": [
     "hide-input"
    ]
   },
   "outputs": [
    {
     "data": {
      "image/png": "[encoded data removed]",
      "text/plain": [
       "<Figure size 700x400 with 1 Axes>"
      ]
     },
     "metadata": {},
     "output_type": "display_data"
    }
   ],
   "source": [
    "plt.figure(figsize=(7,4))\n",
    "df_clean.groupby('rodzice/dzieci')['survived'].apply(lambda x: (x==\"Przeżył\").mean()).plot(kind='bar', color='lightgreen')\n",
    "\n",
    "plt.ylabel(\"Odsetek przeżycia (%)\")\n",
    "plt.xlabel(\"Liczba rodziców/dzieci\")\n",
    "plt.title(\"Przeżywalność wg liczby rodziców/dzieci\")\n",
    "plt.show()\n"
   ]
  },
  {
   "cell_type": "markdown",
   "metadata": {
    "editable": true,
    "slideshow": {
     "slide_type": "slide"
    },
    "tags": []
   },
   "source": [
    "- **Rodzeństwo/małżonkowie (sibsp):** najwyższą przeżywalność miały osoby podróżujące z 1–2 osobami (ok. 45–51%). Samotni pasażerowie przeżywali rzadziej (34%), a przy dużych rodzinach (5 i więcej osób) szanse spadały do 0%.  \n",
    "\n",
    "- **Rodzice/dzieci (parch):** największe szanse miały osoby z 1–3 towarzyszącymi (50–62%). Samotni pasażerowie przeżywali w 33%, a w większych rodzinach (4+) przeżywalność gwałtownie malała.  \n",
    "\n",
    "Najlepsze szanse mieli pasażerowie w **małych rodzinach (1–2 osoby)**, podczas gdy osoby samotne lub w dużych grupach miały dużo niższe wskaźniki przeżycia.\n"
   ]
  },
  {
   "cell_type": "markdown",
   "metadata": {
    "editable": true,
    "slideshow": {
     "slide_type": "slide"
    },
    "tags": []
   },
   "source": [
    "**Wnioski – Analiza szczegółowa przeżywalności pasażerów**\n",
    "\n",
    "Analiza szczegółowa pokazała, że przeżywalność pasażerów Titanica była silnie zróżnicowana w zależności od cech demograficznych i warunków podróży:\n",
    "\n",
    "- **Płeć:** kobiety miały zdecydowanie wyższe szanse na przeżycie niż mężczyźni.  \n",
    "- **Klasa:** im wyższa klasa podróży, tym większa przeżywalność (ponad 60% w 1. klasie wobec 25% w 3. klasie).  \n",
    "- **Wiek:** młodsze osoby, zwłaszcza dzieci, miały większe szanse, choć różnice średniego wieku między grupami były niewielkie.  \n",
    "- **Port wejścia:** najwyższą przeżywalność mieli pasażerowie wsiadający w Cherbourgu, najniższą w Southampton.  \n",
    "- **Rodzina:** największe szanse mieli podróżni w małych rodzinach (1–2 osoby towarzyszące). Samotni oraz osoby w dużych grupach miały znacznie gorsze wyniki.  \n",
    "\n",
    "Widać więc wyraźnie, że o przeżyciu decydowały nie tylko indywidualne cechy (płeć, wiek), ale także status społeczny (klasa podróży) oraz kontekst podróży (rodzina, miejsce zaokrętowania)."
   ]
  },
  {
   "cell_type": "markdown",
   "metadata": {
    "editable": true,
    "slideshow": {
     "slide_type": "slide"
    },
    "tags": []
   },
   "source": [
    "## **4. Wizualizacja danych i wyników analizy**\n",
    "#### **Mapa cieplna korelacji**\n",
    "Mapa cieplna przedstawia zależności między zmiennymi numerycznymi w zbiorze danych \n",
    "(`age`, `fare`, `sibsp`, `parch`, `pclass`, `survived`). \n",
    "Kolory oznaczają siłę i kierunek korelacji – wartości bliskie 1 to silna zależność dodatnia, \n",
    "a wartości bliskie -1 to silna zależność ujemna."
   ]
  },
  {
   "cell_type": "code",
   "execution_count": 27,
   "metadata": {
    "editable": true,
    "slideshow": {
     "slide_type": "fragment"
    },
    "tags": [
     "hide-input"
    ]
   },
   "outputs": [
    {
     "data": {
      "image/png": "[encoded data removed]",
      "text/plain": [
       "<Figure size 800x600 with 2 Axes>"
      ]
     },
     "metadata": {},
     "output_type": "display_data"
    }
   ],
   "source": [
    "plt.figure(figsize=(8,6))\n",
    "sns.heatmap(df.corr(numeric_only=True), annot=True, cmap=\"coolwarm\", fmt=\".2f\")\n",
    "plt.title(\"Korelacje między zmiennymi numerycznymi\")\n",
    "plt.show()"
   ]
  },
  {
   "cell_type": "markdown",
   "metadata": {
    "editable": true,
    "slideshow": {
     "slide_type": "slide"
    },
    "tags": []
   },
   "source": [
    "* Klasa podróży (pclass) jest ujemnie skorelowana z przeżyciem (-0.31) – im niższa klasa, tym mniejsze szanse przeżycia.\n",
    "\n",
    "* Cena biletu (fare) jest dodatnio skorelowana z przeżyciem (0.24) – wyższe ceny (zwykle w 1. klasie) wiązały się z większą szansą ocalenia.\n",
    "\n",
    "* Wiek (age) praktycznie nie był powiązany z przeżyciem (-0.06).\n",
    "\n",
    "* sibsp i parch są ze sobą dodatnio powiązane (0.37), co jest logiczne – większe rodziny zwykle miały wpisy w obu kolumnach.\n",
    "\n",
    "* fare i pclass są silnie skorelowane ujemnie (-0.56) – bilety 1. klasy były dużo droższe niż 3.\n",
    "\n",
    "Ogólnie widać, że największe znaczenie dla przeżycia miały klasa podróży i cena biletu."
   ]
  },
  {
   "cell_type": "markdown",
   "metadata": {
    "editable": true,
    "slideshow": {
     "slide_type": "slide"
    },
    "tags": []
   },
   "source": [
    "#### **Cena biletu wg klasy i statusu przeżyci**\n",
    "Boxplot pokazuje rozkład cen biletów w podziale na klasy podróży oraz status przeżycia.  \n",
    "Pozwala sprawdzić, czy pasażerowie płacący więcej (często w 1. klasie) mieli większe szanse na przeżycie."
   ]
  },
  {
   "cell_type": "code",
   "execution_count": 28,
   "metadata": {
    "editable": true,
    "slideshow": {
     "slide_type": "fragment"
    },
    "tags": [
     "hide-input"
    ]
   },
   "outputs": [
    {
     "data": {
      "image/png": "[encoded data removed]",
      "text/plain": [
       "<Figure size 800x500 with 1 Axes>"
      ]
     },
     "metadata": {},
     "output_type": "display_data"
    }
   ],
   "source": [
    "plt.figure(figsize=(8,5))\n",
    "sns.boxplot(\n",
    "    x=\"pclass\", y=\"fare\", hue=\"survived\", data=df_clean,\n",
    "    hue_order=[\"Nie przeżył\", \"Przeżył\"],\n",
    "    dodge=True\n",
    ")\n",
    "plt.title(\"Cena biletu wg klasy i statusu przeżycia\")\n",
    "plt.xlabel(\"Klasa podróży\")\n",
    "plt.ylabel(\"Cena biletu\")\n",
    "plt.ylim(0, 300)  # opcjonalnie, aby uciąć ekstremalnie drogie bilety\n",
    "plt.legend(title=\"Status przeżycia\")\n",
    "plt.show()\n"
   ]
  },
  {
   "cell_type": "markdown",
   "metadata": {
    "editable": true,
    "slideshow": {
     "slide_type": "slide"
    },
    "tags": []
   },
   "source": [
    "**Wykres potwierdza silny związek ceny biletu, klasy i przeżycia:**\n",
    "\n",
    "- Pasażerowie **1. klasy** płacili najwyższe ceny i mieli największe szanse przeżycia.  \n",
    "- W **2. klasie** ceny były niższe, a różnice w przeżywalności mniejsze.  \n",
    "- W **3. klasie** bilety były najtańsze, a przeżywalność wyraźnie niższa.  \n",
    "\n",
    "Cena biletu i klasa podróży były mocno powiązane z prawdopodobieństwem przeżycia.\n"
   ]
  },
  {
   "cell_type": "markdown",
   "metadata": {
    "editable": true,
    "slideshow": {
     "slide_type": "slide"
    },
    "tags": []
   },
   "source": [
    "#### **Wiek a przeżycie w podziale na płeć**\n",
    "Poniższy wykres pokazuje rozkład wieku pasażerów z podziałem na płeć i status przeżycia.  \n",
    "Pozwala sprawdzić, czy młodsze osoby (szczególnie dzieci) oraz kobiety miały większe szanse na przeżycie."
   ]
  },
  {
   "cell_type": "code",
   "execution_count": 29,
   "metadata": {
    "editable": true,
    "slideshow": {
     "slide_type": "fragment"
    },
    "tags": [
     "hide-input"
    ]
   },
   "outputs": [
    {
     "data": {
      "image/png": "[encoded data removed]",
      "text/plain": [
       "<Figure size 1327.25x500 with 2 Axes>"
      ]
     },
     "metadata": {},
     "output_type": "display_data"
    }
   ],
   "source": [
    "g = sns.FacetGrid(df_clean, col=\"sex\", hue=\"survived\", height=5, aspect=1.2, \n",
    "                  palette={\"Nie przeżył\":\"red\", \"Przeżył\":\"green\"})\n",
    "g.map(sns.histplot, \"age\", bins=20, alpha=0.6, kde=False)\n",
    "g.add_legend(title=\"Status przeżycia\")\n",
    "g.set_axis_labels(\"Wiek\", \"Liczba pasażerów\")\n",
    "g.set_titles(\"{col_name}\")\n",
    "plt.subplots_adjust(top=0.8)\n",
    "g.fig.suptitle(\"Rozkład wieku pasażerów a przeżycie, w podziale na płeć\")\n",
    "plt.show()\n"
   ]
  },
  {
   "cell_type": "markdown",
   "metadata": {
    "editable": true,
    "slideshow": {
     "slide_type": "slide"
    },
    "tags": []
   },
   "source": [
    "**Widać wyraźne różnice między kobietami a mężczyznami:**\n",
    "\n",
    "- **Kobiety**: zdecydowanie większy udział pasażerek, które przeżyły. Dotyczy to prawie wszystkich grup wiekowych.  \n",
    "- **Mężczyźni**: dominują wśród osób, które nie przeżyły, szczególnie w wieku 20–40 lat.  \n",
    "- **Dzieci**: zarówno chłopcy, jak i dziewczynki, miały większe szanse przeżycia niż dorośli pasażerowie.  \n",
    "\n",
    "Wykres jednoznacznie pokazuje zasadę *„kobiety i dzieci pierwsze”*, stosowaną podczas ewakuacji.\n"
   ]
  },
  {
   "cell_type": "markdown",
   "metadata": {
    "editable": true,
    "slideshow": {
     "slide_type": "slide"
    },
    "tags": []
   },
   "source": [
    "#### **Wnioski - Wizualizacja danych i wyników analizy**\n",
    "\n",
    "Dodatkowe wizualizacje potwierdziły kluczowe wnioski z analizy:\n",
    "\n",
    "- **Klasa i cena biletu** były silnie związane z przeżyciem – pasażerowie 1. klasy, płacący wyższe ceny, mieli większe szanse na ocalenie.  \n",
    "- **Płeć i wiek** odegrały ogromną rolę – kobiety oraz dzieci przeżywały znacznie częściej niż dorośli mężczyźni.  \n",
    "- **Korelacje między zmiennymi** pokazały, że najważniejsze czynniki to klasa podróży i koszt biletu, natomiast wiek miał niewielki wpływ.  \n",
    "\n",
    "Wizualizacje w przejrzysty sposób potwierdziły wcześniejsze obserwacje i ułatwiły zrozumienie zależności w danych.\n"
   ]
  },
  {
   "cell_type": "markdown",
   "metadata": {
    "editable": true,
    "slideshow": {
     "slide_type": "slide"
    },
    "tags": []
   },
   "source": [
    "## ✅ Podsumowanie analizy \n",
    "Analiza danych o pasażerach Titanica pozwoliła wskazać kluczowe czynniki wpływające na przeżywalność:\n",
    "\n",
    "- **Płeć:** kobiety miały zdecydowanie większe szanse na przeżycie niż mężczyźni.  \n",
    "- **Klasa podróży:** pasażerowie 1. klasy przeżywali najczęściej, a podróżni 3. klasy najrzadziej.  \n",
    "- **Wiek:** dzieci i młodsze osoby miały większe szanse na ocalenie, co odzwierciedlało zasadę „kobiety i dzieci pierwsze”.  \n",
    "- **Port wejścia:** najwyższą przeżywalność odnotowano wśród pasażerów wsiadających w Cherbourgu.  \n",
    "- **Rodzina na pokładzie:** największe szanse miały osoby podróżujące w małych rodzinach (1–2 osoby towarzyszące).  \n",
    "\n",
    "Dodatkowe wizualizacje potwierdziły, że o przeżyciu decydował przede wszystkim **status społeczny (klasa podróży, cena biletu)** oraz **czynniki demograficzne (płeć i wiek)**.  \n",
    "\n",
    "Podsumowując: dane jednoznacznie wskazują, że przeżycie na Titanicu było w dużej mierze zdeterminowane przez hierarchię społeczną i zasady ewakuacji, a nie przez przypadek."
   ]
  }
 ],
 "metadata": {
  "kernelspec": {
   "display_name": "anaconda-panel-2023.05-py310",
   "language": "python",
   "name": "conda-env-anaconda-panel-2023.05-py310-py"
  },
  "language_info": {
   "codemirror_mode": {
    "name": "ipython",
    "version": 3
   },
   "file_extension": ".py",
   "mimetype": "text/x-python",
   "name": "python",
   "nbconvert_exporter": "python",
   "pygments_lexer": "ipython3",
   "version": "3.11.5"
  }
 },
 "nbformat": 4,
 "nbformat_minor": 4
}
